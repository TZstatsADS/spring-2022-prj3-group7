{
  "cells": [
    {
      "cell_type": "code",
      "execution_count": 1,
      "id": "6ebc1932",
      "metadata": {
        "id": "6ebc1932"
      },
      "outputs": [],
      "source": [
        "# !pip3 install opencv-python"
      ]
    },
    {
      "cell_type": "code",
      "source": [
        "#!pip install pyyaml h5py  # Required to save models in HDF5 format"
      ],
      "metadata": {
        "id": "Orl9gQJJft21"
      },
      "id": "Orl9gQJJft21",
      "execution_count": 2,
      "outputs": []
    },
    {
      "cell_type": "code",
      "execution_count": 1,
      "id": "8e8d91b2",
      "metadata": {
        "id": "8e8d91b2"
      },
      "outputs": [],
      "source": [
        "# Import required packages\n",
        "import numpy as np\n",
        "import cv2\n",
        "import zipfile\n",
        "import matplotlib.pyplot as plt\n",
        "from sklearn.metrics import classification_report, confusion_matrix\n",
        "from sklearn.linear_model import LogisticRegression\n",
        "\n",
        "import tensorflow as tf\n",
        "import tensorflow.keras as K\n",
        "import numpy as np\n",
        "import matplotlib.pyplot as plt\n",
        "%matplotlib inline\n",
        "\n",
        "from keras.preprocessing import image\n",
        "from keras.applications.vgg16 import VGG16\n",
        "from keras.applications.vgg16 import preprocess_input\n",
        "import numpy as np\n",
        "\n",
        "from tensorflow.keras.models import Sequential, Model\n",
        "from tensorflow.keras.layers import Dense, Dropout, Flatten, Input, Dropout, Flatten, concatenate\n",
        "from tensorflow.keras.layers import BatchNormalization, Conv2D, MaxPooling2D\n",
        "\n",
        "import time\n",
        "import pickle"
      ]
    },
    {
      "cell_type": "markdown",
      "id": "9c141b2c",
      "metadata": {
        "id": "9c141b2c"
      },
      "source": [
        "## 1. Load the datasets"
      ]
    },
    {
      "cell_type": "code",
      "source": [
        "from google.colab import drive\n",
        "drive.mount('/content/drive')"
      ],
      "metadata": {
        "id": "CAt0rAy95EeW",
        "colab": {
          "base_uri": "https://localhost:8080/"
        },
        "outputId": "968eda93-12d8-47a3-d408-71156f631adf"
      },
      "id": "CAt0rAy95EeW",
      "execution_count": 2,
      "outputs": [
        {
          "output_type": "stream",
          "name": "stdout",
          "text": [
            "Mounted at /content/drive\n"
          ]
        }
      ]
    },
    {
      "cell_type": "code",
      "execution_count": 61,
      "id": "235efa69",
      "metadata": {
        "id": "235efa69"
      },
      "outputs": [],
      "source": [
        "# [DO NOT MODIFY THIS CELL]\n",
        "\n",
        "# load the images\n",
        "n_img = 50000\n",
        "n_noisy = 40000\n",
        "n_clean_noisy = n_img - n_noisy\n",
        "imgs = np.empty((n_img,32,32,3))\n",
        "\n",
        "# for i in range(n_img):\n",
        "#     img_fn = f'../data/train_data/images/{i+1:05d}.png' # I changed the path\n",
        "#     imgs[i,:,:,:]=cv2.cvtColor(cv2.imread(img_fn),cv2.COLOR_BGR2RGB)\n",
        "\n",
        "\n",
        "# import zipfile\n",
        "a = {}\n",
        "zip_file = zipfile.ZipFile('/content/drive/MyDrive/data/train_data/imgs.npy.zip')\n",
        "imgs = np.load(zip_file.open(zip_file.namelist()[0]))\n",
        "\n",
        "# load the labels\n",
        "clean_labels = np.genfromtxt('/content/drive/MyDrive/data/train_data/clean_labels.csv', delimiter=',', dtype=\"int8\") # I changed the path\n",
        "noisy_labels = np.genfromtxt('/content/drive/MyDrive/data/train_data/noisy_labels.csv', delimiter=',', dtype=\"int8\") # I changed the path\n",
        "\n",
        "# imgs"
      ]
    },
    {
      "cell_type": "markdown",
      "source": [
        "## 2. label cleaning model"
      ],
      "metadata": {
        "id": "N7MxWFgTcqmH"
      },
      "id": "N7MxWFgTcqmH"
    },
    {
      "cell_type": "code",
      "source": [
        "def preprocess_data(X, Y):\n",
        "    \"\"\"\n",
        "    function that pre-processes the CIFAR10 dataset as per\n",
        "    densenet model requirements for input images\n",
        "    labels are one-hot encoded\n",
        "    \"\"\"\n",
        "    X = K.applications.densenet.preprocess_input(X)\n",
        "    Y = K.utils.to_categorical(Y)\n",
        "    return X, Y"
      ],
      "metadata": {
        "id": "fHDeK8zDSItv"
      },
      "id": "fHDeK8zDSItv",
      "execution_count": 9,
      "outputs": []
    },
    {
      "cell_type": "code",
      "source": [
        "X_50000, Y_noisy_50000 = preprocess_data(imgs, noisy_labels)"
      ],
      "metadata": {
        "id": "dymuQmMli8LB"
      },
      "id": "dymuQmMli8LB",
      "execution_count": 10,
      "outputs": []
    },
    {
      "cell_type": "code",
      "source": [
        "Y_clean_10000 = K.utils.to_categorical(clean_labels)"
      ],
      "metadata": {
        "id": "5TUgyICYh8xK"
      },
      "id": "5TUgyICYh8xK",
      "execution_count": 11,
      "outputs": []
    },
    {
      "cell_type": "code",
      "source": [
        "# feature model\n",
        "# weights are initialized as per the he et al. method\n",
        "initializer = K.initializers.he_normal()\n",
        "input_tensor = K.Input(shape=(32, 32, 3))\n",
        "# resize images to the image size upon which the network was pre-trained\n",
        "resized_images = K.layers.Lambda(lambda image: tf.image.resize(image, (224, 224)))(input_tensor)\n",
        "feature_model = K.applications.DenseNet201(include_top=False,   # feature extractor\n",
        "                                   weights='imagenet',\n",
        "                                   input_tensor=resized_images,\n",
        "                                   input_shape=(224, 224, 3),\n",
        "                                   pooling='max',\n",
        "                                   classes=1000) "
      ],
      "metadata": {
        "colab": {
          "base_uri": "https://localhost:8080/"
        },
        "id": "_WLorI8qRA5W",
        "outputId": "cf08ecd5-929d-4aeb-897f-6db2805d0ac3"
      },
      "id": "_WLorI8qRA5W",
      "execution_count": 13,
      "outputs": [
        {
          "output_type": "stream",
          "name": "stdout",
          "text": [
            "Downloading data from https://storage.googleapis.com/tensorflow/keras-applications/densenet/densenet201_weights_tf_dim_ordering_tf_kernels_notop.h5\n",
            "74842112/74836368 [==============================] - 1s 0us/step\n",
            "74850304/74836368 [==============================] - 1s 0us/step\n"
          ]
        }
      ]
    },
    {
      "cell_type": "code",
      "source": [
        "# X_feature = feature_model.predict(imgs[:100])\n",
        "# print(X_feature.shape)"
      ],
      "metadata": {
        "id": "ahouijncfDag"
      },
      "id": "ahouijncfDag",
      "execution_count": 14,
      "outputs": []
    },
    {
      "cell_type": "markdown",
      "source": [
        "create a two branch model where one branch consists of feature extractor layers and another one is simply one or more dense layers on top of each other"
      ],
      "metadata": {
        "id": "86sA1ihxqw-L"
      },
      "id": "86sA1ihxqw-L"
    },
    {
      "cell_type": "code",
      "source": [
        "# branch 1: feature model\n",
        "img_input = K.Input(shape=(32,32,3))\n",
        "branch_1 = feature_model\n",
        "branch_1 = Dense(128, activation=\"linear\")(branch_1.output)\n",
        "\n",
        "# branch 2: linear\n",
        "noisy_labels_input = K.Input(shape=(10,))\n",
        "branch_2 = Dense(128, activation=\"linear\")(noisy_labels_input)\n",
        "branch_2 = Model(inputs=noisy_labels_input, outputs=branch_2)\n",
        "\n",
        "# concatenate\n",
        "concat = concatenate([branch_1, branch_2.output])\n",
        "\n",
        "# merge two branches\n",
        "final_model = Dense(64, activation=\"linear\")(concat)\n",
        "final_model = Dropout(0.25)(final_model)\n",
        "final_model = Dense(10, activation=\"softmax\")(final_model)\n",
        "\n",
        "label_correction_model = Model(inputs=[feature_model.input, branch_2.input], outputs=final_model)"
      ],
      "metadata": {
        "id": "pKf-RUqfLPPo"
      },
      "id": "pKf-RUqfLPPo",
      "execution_count": 25,
      "outputs": []
    },
    {
      "cell_type": "code",
      "source": [
        "label_correction_model.compile(\n",
        "    optimizer=K.optimizers.Adam(learning_rate=1e-4),\n",
        "    loss='categorical_crossentropy',\n",
        "    metrics=['accuracy'])"
      ],
      "metadata": {
        "id": "DG4_pk1mRYf3"
      },
      "id": "DG4_pk1mRYf3",
      "execution_count": 26,
      "outputs": []
    },
    {
      "cell_type": "code",
      "source": [
        "# reduce learning rate when val_accuracy has stopped improving\n",
        "lr_reduce = K.callbacks.ReduceLROnPlateau(monitor='val_accuracy',\n",
        "                                          factor=0.6,\n",
        "                                          patience=2,\n",
        "                                          verbose=1,\n",
        "                                          mode='max',\n",
        "                                          min_lr=1e-7)\n",
        "# stop training when val_accuracy has stopped improving\n",
        "early_stop = K.callbacks.EarlyStopping(monitor='val_accuracy',\n",
        "                                       patience=3,\n",
        "                                       verbose=1,\n",
        "                                       mode='max')\n",
        "# callback to save the Keras model and (best) weights obtained on an epoch basis. here, the trained (compiled) model is saved in the current working directory as ''\n",
        "checkpoint = K.callbacks.ModelCheckpoint('label_correction_model',\n",
        "                                         monitor='val_accuracy',\n",
        "                                         verbose=1,\n",
        "                                         save_weights_only=False,\n",
        "                                         save_best_only=True,\n",
        "                                         mode='max',\n",
        "                                         save_freq='epoch')"
      ],
      "metadata": {
        "id": "Ii4eCIyfxIQh"
      },
      "id": "Ii4eCIyfxIQh",
      "execution_count": 27,
      "outputs": []
    },
    {
      "cell_type": "code",
      "source": [
        "# document the start time\n",
        "start = time.time()\n",
        "\n",
        "# Fit the model using all data\n",
        "history = label_correction_model.fit([X_50000[:10000], Y_noisy_50000[:10000]], \n",
        "                                     Y_clean_10000,\n",
        "                                     epochs = 10, \n",
        "                                     validation_split = 0.2,\n",
        "                                     shuffle=True,\n",
        "                                     callbacks=[lr_reduce, early_stop, checkpoint],\n",
        "                                     verbose=1)\n",
        "\n",
        "# document the training stop time\n",
        "stop = time.time()\n",
        "label_correction_model_trainingtime = stop - start\n",
        "print(f\"Training time: {label_correction_model_trainingtime}s\") # prints: Training time\n",
        "\n",
        "# Save the entire model as a SavedModel.\n",
        "label_correction_model.save(f'/content/drive/MyDrive/Colab Notebooks/5243/saved_model/label_correction_model_0')\n",
        "\n",
        "#import pickle\n",
        "with open('/content/drive/MyDrive/Colab Notebooks/5243/label_correction_model_trainingtime', 'wb') as fp:\n",
        "    pickle.dump(label_correction_model_trainingtime, fp)\n",
        "with open('/content/drive/MyDrive/Colab Notebooks/5243/label_correction_model_historyfit', 'wb') as fp:\n",
        "    pickle.dump(history, fp)"
      ],
      "metadata": {
        "id": "SKPieJMqSx1P",
        "colab": {
          "base_uri": "https://localhost:8080/"
        },
        "outputId": "878a885c-1aa3-477d-beba-60c3d240f4c0"
      },
      "id": "SKPieJMqSx1P",
      "execution_count": 30,
      "outputs": [
        {
          "output_type": "stream",
          "name": "stdout",
          "text": [
            "Epoch 1/10\n",
            "250/250 [==============================] - ETA: 0s - loss: 1.3856 - accuracy: 0.7045\n",
            "Epoch 1: val_accuracy improved from -inf to 0.88500, saving model to label_correction_model\n",
            "INFO:tensorflow:Assets written to: label_correction_model/assets\n",
            "250/250 [==============================] - 440s 2s/step - loss: 1.3856 - accuracy: 0.7045 - val_loss: 0.4575 - val_accuracy: 0.8850 - lr: 1.0000e-04\n",
            "Epoch 2/10\n",
            "250/250 [==============================] - ETA: 0s - loss: 0.3047 - accuracy: 0.9160\n",
            "Epoch 2: val_accuracy improved from 0.88500 to 0.90250, saving model to label_correction_model\n",
            "INFO:tensorflow:Assets written to: label_correction_model/assets\n",
            "250/250 [==============================] - 393s 2s/step - loss: 0.3047 - accuracy: 0.9160 - val_loss: 0.4170 - val_accuracy: 0.9025 - lr: 1.0000e-04\n",
            "Epoch 3/10\n",
            "250/250 [==============================] - ETA: 0s - loss: 0.1412 - accuracy: 0.9569\n",
            "Epoch 3: val_accuracy did not improve from 0.90250\n",
            "250/250 [==============================] - 306s 1s/step - loss: 0.1412 - accuracy: 0.9569 - val_loss: 0.4071 - val_accuracy: 0.9020 - lr: 1.0000e-04\n",
            "Epoch 4/10\n",
            "250/250 [==============================] - ETA: 0s - loss: 0.1098 - accuracy: 0.9661\n",
            "Epoch 4: val_accuracy improved from 0.90250 to 0.91550, saving model to label_correction_model\n",
            "INFO:tensorflow:Assets written to: label_correction_model/assets\n",
            "250/250 [==============================] - 392s 2s/step - loss: 0.1098 - accuracy: 0.9661 - val_loss: 0.3374 - val_accuracy: 0.9155 - lr: 1.0000e-04\n",
            "Epoch 5/10\n",
            "250/250 [==============================] - ETA: 0s - loss: 0.0905 - accuracy: 0.9719\n",
            "Epoch 5: val_accuracy did not improve from 0.91550\n",
            "250/250 [==============================] - 306s 1s/step - loss: 0.0905 - accuracy: 0.9719 - val_loss: 0.4560 - val_accuracy: 0.9015 - lr: 1.0000e-04\n",
            "Epoch 6/10\n",
            "250/250 [==============================] - ETA: 0s - loss: 0.0751 - accuracy: 0.9760\n",
            "Epoch 6: ReduceLROnPlateau reducing learning rate to 5.999999848427251e-05.\n",
            "\n",
            "Epoch 6: val_accuracy did not improve from 0.91550\n",
            "250/250 [==============================] - 306s 1s/step - loss: 0.0751 - accuracy: 0.9760 - val_loss: 0.4455 - val_accuracy: 0.8965 - lr: 1.0000e-04\n",
            "Epoch 7/10\n",
            "250/250 [==============================] - ETA: 0s - loss: 0.0403 - accuracy: 0.9870\n",
            "Epoch 7: val_accuracy improved from 0.91550 to 0.92700, saving model to label_correction_model\n",
            "INFO:tensorflow:Assets written to: label_correction_model/assets\n",
            "250/250 [==============================] - 391s 2s/step - loss: 0.0403 - accuracy: 0.9870 - val_loss: 0.3223 - val_accuracy: 0.9270 - lr: 6.0000e-05\n",
            "Epoch 8/10\n",
            "250/250 [==============================] - ETA: 0s - loss: 0.0283 - accuracy: 0.9908\n",
            "Epoch 8: val_accuracy did not improve from 0.92700\n",
            "250/250 [==============================] - 306s 1s/step - loss: 0.0283 - accuracy: 0.9908 - val_loss: 0.3363 - val_accuracy: 0.9230 - lr: 6.0000e-05\n",
            "Epoch 9/10\n",
            "250/250 [==============================] - ETA: 0s - loss: 0.0221 - accuracy: 0.9930\n",
            "Epoch 9: ReduceLROnPlateau reducing learning rate to 3.599999909056351e-05.\n",
            "\n",
            "Epoch 9: val_accuracy did not improve from 0.92700\n",
            "250/250 [==============================] - 306s 1s/step - loss: 0.0221 - accuracy: 0.9930 - val_loss: 0.3401 - val_accuracy: 0.9230 - lr: 6.0000e-05\n",
            "Epoch 10/10\n",
            "250/250 [==============================] - ETA: 0s - loss: 0.0163 - accuracy: 0.9948\n",
            "Epoch 10: val_accuracy improved from 0.92700 to 0.94000, saving model to label_correction_model\n",
            "INFO:tensorflow:Assets written to: label_correction_model/assets\n",
            "250/250 [==============================] - 391s 2s/step - loss: 0.0163 - accuracy: 0.9948 - val_loss: 0.2636 - val_accuracy: 0.9400 - lr: 3.6000e-05\n",
            "Training time: 3588.8196280002594s\n",
            "INFO:tensorflow:Assets written to: /content/drive/MyDrive/Colab Notebooks/5243/saved_model/label_correction_model_0/assets\n",
            "INFO:tensorflow:Assets written to: ram://6374bb10-b529-4b99-972f-7835d95392b9/assets\n"
          ]
        }
      ]
    },
    {
      "cell_type": "code",
      "source": [
        "# load the model\n",
        "label_correction_model = tf.keras.models.load_model('/content/drive/MyDrive/Colab Notebooks/5243/saved_model/label_correction_model_0')\n",
        "#label_correction_model.summary()"
      ],
      "metadata": {
        "id": "F3VUiTnWMqbo"
      },
      "id": "F3VUiTnWMqbo",
      "execution_count": 4,
      "outputs": []
    },
    {
      "cell_type": "code",
      "source": [
        "# read the variable back\n",
        "with open('/content/drive/MyDrive/Colab Notebooks/5243/label_correction_model_historyfit', 'rb') as f:\n",
        "    lc_history = pickle.load(f)"
      ],
      "metadata": {
        "id": "CyCZ3GYgQWMd"
      },
      "id": "CyCZ3GYgQWMd",
      "execution_count": 5,
      "outputs": []
    },
    {
      "cell_type": "code",
      "source": [
        "# with open('/content/drive/MyDrive/Colab Notebooks/5243/label_correction_model_trainingtime', 'rb') as f:\n",
        "#     lc_trainingtime = pickle.load(f)"
      ],
      "metadata": {
        "id": "IjeVAr-WRfnX"
      },
      "id": "IjeVAr-WRfnX",
      "execution_count": 18,
      "outputs": []
    },
    {
      "cell_type": "code",
      "source": [
        "# evaluate the model\n",
        "plt.plot(lc_history.history['accuracy'], label='accuracy')\n",
        "plt.plot(lc_history.history['val_accuracy'], label = 'val_accuracy')\n",
        "plt.xlabel('Epoch')\n",
        "plt.ylabel('Accuracy')\n",
        "plt.ylim([0, 1])\n",
        "plt.legend(loc='lower right')"
      ],
      "metadata": {
        "colab": {
          "base_uri": "https://localhost:8080/",
          "height": 301
        },
        "id": "5f2aqmTxK1Fz",
        "outputId": "3d7711d6-352f-4e6a-e8d0-eb2788d61719"
      },
      "id": "5f2aqmTxK1Fz",
      "execution_count": 6,
      "outputs": [
        {
          "output_type": "execute_result",
          "data": {
            "text/plain": [
              "<matplotlib.legend.Legend at 0x7fe632ae8690>"
            ]
          },
          "metadata": {},
          "execution_count": 6
        },
        {
          "output_type": "display_data",
          "data": {
            "text/plain": [
              "<Figure size 432x288 with 1 Axes>"
            ],
            "image/png": "[encoded data removed]"
          },
          "metadata": {
            "needs_background": "light"
          }
        }
      ]
    },
    {
      "cell_type": "code",
      "source": [
        "p = label_correction_model.predict([X_50000[:], Y_noisy_50000[:]])"
      ],
      "metadata": {
        "id": "6wl0tn_2SDVF"
      },
      "id": "6wl0tn_2SDVF",
      "execution_count": 46,
      "outputs": []
    },
    {
      "cell_type": "code",
      "source": [
        "with open('/content/drive/MyDrive/Colab Notebooks/5243/label_correction_predictions', 'wb') as fp:\n",
        "    pickle.dump(p, fp)"
      ],
      "metadata": {
        "id": "4wdFMkWqVUnr"
      },
      "id": "4wdFMkWqVUnr",
      "execution_count": 47,
      "outputs": []
    },
    {
      "cell_type": "code",
      "source": [
        "y_classes = [np.argmax(element) for element in p]"
      ],
      "metadata": {
        "colab": {
          "base_uri": "https://localhost:8080/"
        },
        "id": "zETjB-G3UKZM",
        "outputId": "b310e396-8452-4e4f-9a19-b527e21d9ef2"
      },
      "id": "zETjB-G3UKZM",
      "execution_count": 48,
      "outputs": [
        {
          "output_type": "execute_result",
          "data": {
            "text/plain": [
              "[6, 9, 9, 4, 1]"
            ]
          },
          "metadata": {},
          "execution_count": 48
        }
      ]
    },
    {
      "cell_type": "code",
      "source": [
        "y_classes[:5] #prediction value"
      ],
      "metadata": {
        "colab": {
          "base_uri": "https://localhost:8080/"
        },
        "id": "XHA6UXF9hXy8",
        "outputId": "560c8955-85b2-4ef1-9d3d-1aae25e7af21"
      },
      "id": "XHA6UXF9hXy8",
      "execution_count": 60,
      "outputs": [
        {
          "output_type": "execute_result",
          "data": {
            "text/plain": [
              "[6, 9, 9, 4, 1]"
            ]
          },
          "metadata": {},
          "execution_count": 60
        }
      ]
    },
    {
      "cell_type": "code",
      "source": [
        "with open('/content/drive/MyDrive/Colab Notebooks/5243/lc_classes', 'wb') as fp:\n",
        "    pickle.dump(y_classes, fp)"
      ],
      "metadata": {
        "id": "dDb8tJDWe4eJ"
      },
      "id": "dDb8tJDWe4eJ",
      "execution_count": 51,
      "outputs": []
    },
    {
      "cell_type": "code",
      "source": [
        "import pandas as pd    \n",
        "df = pd.DataFrame(y_classes)\n",
        "df.to_csv('/content/drive/MyDrive/Colab Notebooks/5243/cleaned_labels.csv', index=False , header = False)"
      ],
      "metadata": {
        "id": "NFI-AGaRgPWF"
      },
      "id": "NFI-AGaRgPWF",
      "execution_count": 73,
      "outputs": []
    },
    {
      "cell_type": "code",
      "source": [
        "cleaned_labels = np.genfromtxt('/content/drive/MyDrive/Colab Notebooks/5243/cleaned_labels.csv', delimiter=',', dtype=\"int8\") # I changed the path\n",
        "cleaned_labels"
      ],
      "metadata": {
        "colab": {
          "base_uri": "https://localhost:8080/"
        },
        "id": "6D125V9rb8DU",
        "outputId": "1980dac6-9e58-4951-c5eb-e3352677c181"
      },
      "id": "6D125V9rb8DU",
      "execution_count": 74,
      "outputs": [
        {
          "output_type": "execute_result",
          "data": {
            "text/plain": [
              "array([6, 9, 9, ..., 9, 1, 1], dtype=int8)"
            ]
          },
          "metadata": {},
          "execution_count": 74
        }
      ]
    },
    {
      "cell_type": "code",
      "source": [
        "# take a look at some images and check the quality of our cleaned labels\n",
        "\n",
        "fig = plt.figure()\n",
        "\n",
        "ax1 = fig.add_subplot(2,4,1)\n",
        "ax1.imshow(imgs[20000]/255)\n",
        "ax2 = fig.add_subplot(2,4,2)\n",
        "ax2.imshow(imgs[20001]/255)\n",
        "ax3 = fig.add_subplot(2,4,3)\n",
        "ax3.imshow(imgs[20002]/255)\n",
        "ax4 = fig.add_subplot(2,4,4)\n",
        "ax4.imshow(imgs[20003]/255)\n",
        "ax1 = fig.add_subplot(2,4,5)\n",
        "ax1.imshow(imgs[20004]/255)\n",
        "ax2 = fig.add_subplot(2,4,6)\n",
        "ax2.imshow(imgs[20005]/255)\n",
        "ax3 = fig.add_subplot(2,4,7)\n",
        "ax3.imshow(imgs[20006]/255)\n",
        "ax4 = fig.add_subplot(2,4,8)\n",
        "ax4.imshow(imgs[20007]/255)\n",
        "\n",
        "# The class-label correspondence\n",
        "classes = ('plane', 'car', 'bird', 'cat',\n",
        "           'deer', 'dog', 'frog', 'horse', 'ship', 'truck')\n",
        "\n",
        "# print clean labels\n",
        "print('Cleaned labels:')\n",
        "print(' '.join('%5s' % classes[y_classes[j]] for j in range(20000,20008)))\n",
        "\n",
        "# print noisy labels\n",
        "print('Noisy labels:')\n",
        "print(' '.join('%5s' % classes[noisy_labels[j]] for j in range(20000,20008)))\n"
      ],
      "metadata": {
        "colab": {
          "base_uri": "https://localhost:8080/",
          "height": 313
        },
        "id": "xMwe5aTihzi2",
        "outputId": "471fcc6b-f6b9-4dee-86fc-f27e62f22b06"
      },
      "id": "xMwe5aTihzi2",
      "execution_count": 70,
      "outputs": [
        {
          "output_type": "stream",
          "name": "stdout",
          "text": [
            "Cleaned labels:\n",
            " ship   dog plane  frog truck  bird  ship   cat\n",
            "Noisy labels:\n",
            "  car  deer   cat  frog horse  bird horse plane\n"
          ]
        },
        {
          "output_type": "display_data",
          "data": {
            "text/plain": [
              "<Figure size 432x288 with 8 Axes>"
            ],
            "image/png": "[encoded data removed]"
          },
          "metadata": {
            "needs_background": "light"
          }
        }
      ]
    },
    {
      "cell_type": "code",
      "source": [
        "classes = [\"airplane\",\"automobile\",\"bird\",\"cat\",\"deer\",\"dog\",\"frog\",\"horse\",\"ship\",\"truck\"]\n",
        "y_pred = label_correction_model.predict([X_50000[:8], Y_noisy_50000[:8]])"
      ],
      "metadata": {
        "id": "F_PuZitTbxLl"
      },
      "id": "F_PuZitTbxLl",
      "execution_count": null,
      "outputs": []
    },
    {
      "cell_type": "code",
      "source": [
        "# # test. use after getting the test images\n",
        "# test_loss, test_acc = model.evaluate(test_images,  test_labels, verbose=2)\n",
        "# print(test_acc)"
      ],
      "metadata": {
        "id": "ek88Ep0QSVB0"
      },
      "id": "ek88Ep0QSVB0",
      "execution_count": null,
      "outputs": []
    },
    {
      "cell_type": "markdown",
      "source": [
        "Reference: \n",
        "\n",
        "https://stackoverflow.com/questions/52359905/how-to-feed-and-build-a-input-dense-conv2d-dense-network-in-keras\n",
        "\n",
        "https://www.programcreek.com/python/example/93296/keras.layers.convolutional.AveragePooling2D\n",
        "\n",
        "https://medium.com/@pierre.beaujuge/classifying-images-from-the-cifar10-dataset-with-pre-trained-cnns-using-transfer-learning-9348f6d878a8\n",
        "\n",
        "https://faroit.com/keras-docs/1.0.1/getting-started/sequential-model-guide/\n"
      ],
      "metadata": {
        "id": "V9mpM6nXK6c8"
      },
      "id": "V9mpM6nXK6c8"
    }
  ],
  "metadata": {
    "kernelspec": {
      "display_name": "Python 3 (ipykernel)",
      "language": "python",
      "name": "python3"
    },
    "language_info": {
      "codemirror_mode": {
        "name": "ipython",
        "version": 3
      },
      "file_extension": ".py",
      "mimetype": "text/x-python",
      "name": "python",
      "nbconvert_exporter": "python",
      "pygments_lexer": "ipython3",
      "version": "3.9.7"
    },
    "colab": {
      "name": "label_correction.ipynb",
      "provenance": [],
      "collapsed_sections": []
    }
  },
  "nbformat": 4,
  "nbformat_minor": 5
}